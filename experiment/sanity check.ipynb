{
 "cells": [
  {
   "cell_type": "code",
   "execution_count": 2,
   "id": "2737521a",
   "metadata": {},
   "outputs": [],
   "source": [
    "import random\n",
    "import itertools\n",
    "from decimal import Decimal\n",
    "import os\n",
    "from datetime import datetime\n",
    "import csv"
   ]
  },
  {
   "cell_type": "code",
   "execution_count": 3,
   "id": "aee095a9",
   "metadata": {},
   "outputs": [],
   "source": [
    "probabilities = {\n",
    "    13: (100.00, 7.69),\n",
    "    12: (92.31, 15.38),\n",
    "    11: (84.62, 23.08),\n",
    "    10: (76.92, 30.77),\n",
    "    9: (69.23, 38.46),\n",
    "    8: (61.54, 46.15),\n",
    "    7: (53.85, 53.85),\n",
    "    6: (46.15, 61.54),\n",
    "    5: (38.46, 69.23),\n",
    "    4: (30.77, 76.92),\n",
    "    3: (23.08, 84.62),\n",
    "    2: (15.38, 92.31),\n",
    "    1: (7.69, 100.00),\n",
    "}"
   ]
  },
  {
   "cell_type": "code",
   "execution_count": 4,
   "id": "88ebcb67",
   "metadata": {},
   "outputs": [],
   "source": [
    "payouts = {\n",
    "    13: (1.00, 2.00),\n",
    "    12: (1.15, 1.92),\n",
    "    11: (1.23, 1.84),\n",
    "    10: (1.30, 1.76),\n",
    "    9: (1.38, 1.69),\n",
    "    8: (1.46, 1.61),\n",
    "    7: (1.53, 1.53),\n",
    "    6: (1.61, 1.46),\n",
    "    5: (1.69, 1.38),\n",
    "    4: (1.76, 1.30),\n",
    "    3: (1.84, 1.23),\n",
    "    2: (1.92, 1.15),\n",
    "    1: (2.00, 1.00),\n",
    "}"
   ]
  },
  {
   "cell_type": "code",
   "execution_count": 5,
   "id": "531c283f",
   "metadata": {},
   "outputs": [],
   "source": [
    "LOWER = 0\n",
    "HIGHER = 1"
   ]
  },
  {
   "cell_type": "code",
   "execution_count": 6,
   "id": "bdee98f1",
   "metadata": {},
   "outputs": [],
   "source": [
    "def is_degen(degen_rate: int) -> bool:\n",
    "    return random.randint(1, 100) <= degen_rate"
   ]
  },
  {
   "cell_type": "code",
   "execution_count": 7,
   "id": "35b24d9c",
   "metadata": {},
   "outputs": [
    {
     "data": {
      "text/plain": [
       "True"
      ]
     },
     "execution_count": 7,
     "metadata": {},
     "output_type": "execute_result"
    }
   ],
   "source": [
    "is_degen(50)"
   ]
  },
  {
   "cell_type": "code",
   "execution_count": 8,
   "id": "b7c4ddcc",
   "metadata": {},
   "outputs": [],
   "source": [
    "def pick_card() -> int:\n",
    "    return random.randint(1,  13)"
   ]
  },
  {
   "cell_type": "code",
   "execution_count": 9,
   "id": "85eaa397",
   "metadata": {},
   "outputs": [
    {
     "data": {
      "text/plain": [
       "12"
      ]
     },
     "execution_count": 9,
     "metadata": {},
     "output_type": "execute_result"
    }
   ],
   "source": [
    "pick_card()"
   ]
  },
  {
   "cell_type": "code",
   "execution_count": 10,
   "id": "c2a8035e",
   "metadata": {},
   "outputs": [],
   "source": [
    "DEFAULT_BET_AMOUNT_OPTIONS = [1, 2, 5, 10, 20]\n",
    "DEFAULT_BET_AMOUNT_PROBABILITIES = [20, 30, 30, 15, 5]"
   ]
  },
  {
   "cell_type": "code",
   "execution_count": 11,
   "id": "9c5b61fd",
   "metadata": {},
   "outputs": [],
   "source": [
    "DEFAULT_BET_OPTIONS = list(itertools.chain(*[(x,) * y for x, y in zip(DEFAULT_BET_AMOUNT_OPTIONS, DEFAULT_BET_AMOUNT_PROBABILITIES)]))"
   ]
  },
  {
   "cell_type": "code",
   "execution_count": 12,
   "id": "11350b73",
   "metadata": {},
   "outputs": [],
   "source": [
    "DEFAULT_SUPPORTERS_PAYOUT = 0.04\n",
    "DEFAULT_TEAM_PAYOUT = 0.01"
   ]
  },
  {
   "cell_type": "code",
   "execution_count": 13,
   "id": "dc8cc731",
   "metadata": {},
   "outputs": [],
   "source": [
    "DEFAULT_STARTING_FUNDS = 5000"
   ]
  },
  {
   "cell_type": "code",
   "execution_count": 14,
   "id": "83e3f848",
   "metadata": {},
   "outputs": [],
   "source": [
    "FIELDNAMES = [\n",
    "    \"round\",\n",
    "    \"starting_pool_amount\",\n",
    "    \"degen\",\n",
    "    \"first_card\",\n",
    "    \"bet_amount\",\n",
    "    \"usable_bet_amount\",\n",
    "    \"bet_high_or_low_first\",\n",
    "    \"second_card\",\n",
    "    \"intermediate_win\",\n",
    "    \"payout_coefficient_first\",\n",
    "    \"bet_high_or_low_second\",\n",
    "    \"third_card\",\n",
    "    \"win\",\n",
    "    \"payout_coefficient_second\",\n",
    "    \"combined_payout_coefficient\",\n",
    "    \"payout_amount\",\n",
    "    \"updated_pool_amount\",\n",
    "    \"cumulative_payout\",\n",
    "    \"to_supporters\",\n",
    "    \"cumulative_to_supporters\",\n",
    "    \"to_team\",\n",
    "    \"cumulative_to_team\",\n",
    "]"
   ]
  },
  {
   "cell_type": "code",
   "execution_count": 15,
   "id": "42f2b148",
   "metadata": {},
   "outputs": [],
   "source": [
    "CONFIG_FIELDS = [\n",
    "    \"starting_pool_amount\",\n",
    "    \"degen_rate\",\n",
    "    \"supporters_payout\",\n",
    "    \"team_payout\",\n",
    "    \"bet_amounts\",\n",
    "    \"bet_amount_probabilities\",\n",
    "]"
   ]
  },
  {
   "cell_type": "code",
   "execution_count": 16,
   "id": "1728d349",
   "metadata": {},
   "outputs": [],
   "source": [
    "def check_win(card1, card2, bet):\n",
    "    win = False\n",
    "\n",
    "    if bet == HIGHER:\n",
    "        if card1 == 1:\n",
    "            if card2 > card1:\n",
    "                win = True;\n",
    "            \n",
    "        elif card1 == 13:\n",
    "            if card2 == card1:\n",
    "                win = True;\n",
    "            \n",
    "        else:\n",
    "            if card2 >= card1:\n",
    "                win = True;\n",
    "\n",
    "\n",
    "    else:\n",
    "        if card1 == 1:\n",
    "            if card2 == card1:\n",
    "                win = True;\n",
    "            \n",
    "        elif card1 == 13:\n",
    "            if card2 < card1:\n",
    "                win = True;\n",
    "            \n",
    "        else:\n",
    "            if card2 <= card1:\n",
    "                win = True;\n",
    "\n",
    "    return win\n"
   ]
  },
  {
   "cell_type": "code",
   "execution_count": 17,
   "id": "0f484c0e",
   "metadata": {},
   "outputs": [
    {
     "data": {
      "text/plain": [
       "True"
      ]
     },
     "execution_count": 17,
     "metadata": {},
     "output_type": "execute_result"
    }
   ],
   "source": [
    "check_win(5, 8, 1)"
   ]
  },
  {
   "cell_type": "code",
   "execution_count": 18,
   "id": "d51a028e",
   "metadata": {},
   "outputs": [],
   "source": [
    "_TWO_DECIMAL_QUANTIZER = Decimal(\"0.01\")\n",
    "_FOUR_DECIMAL_QUANTIZER = Decimal(\"0.0001\")"
   ]
  },
  {
   "cell_type": "code",
   "execution_count": 19,
   "id": "8f0cb05a",
   "metadata": {},
   "outputs": [],
   "source": [
    "def run_simulation(\n",
    "    number_of_rounds,\n",
    "    degen_rate,\n",
    "    starting_pool_amount=DEFAULT_STARTING_FUNDS,\n",
    "    supporters_payout=DEFAULT_SUPPORTERS_PAYOUT,\n",
    "    team_payout=DEFAULT_TEAM_PAYOUT,\n",
    "    bet_amounts=None,\n",
    "    bet_amount_probabilities=None\n",
    "):\n",
    "    bet_amounts = bet_amounts or DEFAULT_BET_AMOUNT_OPTIONS\n",
    "    bet_amount_probabilities = bet_amount_probabilities or DEFAULT_BET_AMOUNT_PROBABILITIES\n",
    "    bet_options = list(\n",
    "        itertools.chain(*[(x,) * y for x, y in zip(bet_amounts, bet_amount_probabilities)])\n",
    "    )\n",
    "\n",
    "    pool_size = starting_pool_amount\n",
    "    cumulative_payout = Decimal(0)\n",
    "    cumulative_to_supporters = Decimal(0)\n",
    "    cumulative_to_team = Decimal(0)\n",
    "    \n",
    "    dir_name = f'reports/simulation_{datetime.now().isoformat()}'\n",
    "    os.mkdir(dir_name)\n",
    "    \n",
    "    with open(f'{dir_name}/config.txt', 'w') as f:\n",
    "        f.write(f\"\"\"Starting pool size: {starting_pool_amount}\n",
    "Degen rate: {degen_rate}\n",
    "Supporters payout percentage: {supporters_payout}\n",
    "Team payout percentage: {team_payout}\n",
    "Bet amounts: {bet_amounts}\n",
    "Bet amount probabilities: {bet_amount_probabilities}\"\"\")\n",
    "    \n",
    "    f = open(f'{dir_name}/simulation.csv', 'w')\n",
    "    outwriter = csv.DictWriter(f, fieldnames=FIELDNAMES)\n",
    "    outwriter.writeheader()\n",
    "    \n",
    "    for i in range(1, number_of_rounds + 1):\n",
    "        if i % 1000 == 0:\n",
    "            print(f\"Round {i}\")\n",
    "            \n",
    "        initial_pool_size = pool_size\n",
    "        payout_coefficient_first = bet_second = third_card = win = payout_coefficient_second = combined_payout_coefficient = payout_amount = \"\"\n",
    "        degen = is_degen(degen_rate)\n",
    "        bet_amount = bet_options[random.randint(0, 99)]\n",
    "        to_supporters = Decimal(bet_amount * supporters_payout).quantize(_TWO_DECIMAL_QUANTIZER)\n",
    "        cumulative_to_supporters += to_supporters\n",
    "        to_team = Decimal(bet_amount * team_payout).quantize(_TWO_DECIMAL_QUANTIZER)\n",
    "        cumulative_to_team += to_team\n",
    "        usable_bet_amount = bet_amount - to_supporters - to_team\n",
    "\n",
    "        first_card = pick_card()\n",
    "        if degen:\n",
    "            bet_first = LOWER if first_card <= 7 else HIGHER\n",
    "        else:\n",
    "            bet_first = HIGHER if first_card <= 7 else LOWER\n",
    "            \n",
    "        second_card = pick_card()\n",
    "        intermediate_win = check_win(first_card, second_card, bet_first)\n",
    "        if intermediate_win:\n",
    "            payout_coefficient_first = payouts[first_card][bet_first]\n",
    "            \n",
    "            if degen:\n",
    "                bet_second = LOWER if second_card <= 7 else HIGHER\n",
    "            else:\n",
    "                bet_second = HIGHER if second_card <= 7 else LOWER\n",
    "            \n",
    "            third_card = pick_card()\n",
    "            win = check_win(second_card, third_card, bet_second)\n",
    "            if win:\n",
    "                payout_coefficient_second = payouts[second_card][bet_second]\n",
    "                combined_payout_coefficient = Decimal(payout_coefficient_first * payout_coefficient_second).quantize(_FOUR_DECIMAL_QUANTIZER)\n",
    "                payout_amount = Decimal(usable_bet_amount * combined_payout_coefficient).quantize(_FOUR_DECIMAL_QUANTIZER)\n",
    "                pool_size -= (payout_amount - usable_bet_amount)\n",
    "                cumulative_payout += (payout_amount - usable_bet_amount)\n",
    "            else:\n",
    "                pool_size += usable_bet_amount\n",
    "                \n",
    "        else:\n",
    "            pool_size += usable_bet_amount\n",
    "            \n",
    "        data = {    \n",
    "            \"round\": i,\n",
    "            \"starting_pool_amount\": initial_pool_size,\n",
    "            \"degen\": degen,\n",
    "            \"first_card\": first_card,\n",
    "            \"bet_amount\": bet_amount,\n",
    "            \"usable_bet_amount\": usable_bet_amount,\n",
    "            \"bet_high_or_low_first\": bet_first,\n",
    "            \"second_card\": second_card,\n",
    "            \"intermediate_win\": intermediate_win,\n",
    "            \"payout_coefficient_first\": payout_coefficient_first,\n",
    "            \"bet_high_or_low_second\": bet_second,\n",
    "            \"third_card\": third_card,\n",
    "            \"win\": win,\n",
    "            \"payout_coefficient_second\": payout_coefficient_second,\n",
    "            \"combined_payout_coefficient\": combined_payout_coefficient,\n",
    "            \"payout_amount\": payout_amount,\n",
    "            \"updated_pool_amount\": pool_size,\n",
    "            \"cumulative_payout\": cumulative_payout,\n",
    "            \"to_supporters\": to_supporters,\n",
    "            \"cumulative_to_supporters\": cumulative_to_supporters,\n",
    "            \"to_team\": to_team,\n",
    "            \"cumulative_to_team\": cumulative_to_team,\n",
    "        }\n",
    "        outwriter.writerow(data)\n",
    "        \n",
    "    f.close()\n"
   ]
  },
  {
   "cell_type": "code",
   "execution_count": 20,
   "id": "551932c1",
   "metadata": {},
   "outputs": [
    {
     "name": "stdout",
     "output_type": "stream",
     "text": [
      "Round 1000\n",
      "Round 2000\n",
      "Round 3000\n",
      "Round 4000\n",
      "Round 5000\n",
      "Round 6000\n",
      "Round 7000\n",
      "Round 8000\n",
      "Round 9000\n",
      "Round 10000\n"
     ]
    }
   ],
   "source": [
    "run_simulation(10000, 0, starting_pool_amount=500)"
   ]
  },
  {
   "cell_type": "code",
   "execution_count": null,
   "id": "02c93c35",
   "metadata": {},
   "outputs": [],
   "source": []
  }
 ],
 "metadata": {
  "kernelspec": {
   "display_name": "Python 3 (ipykernel)",
   "language": "python",
   "name": "python3"
  },
  "language_info": {
   "codemirror_mode": {
    "name": "ipython",
    "version": 3
   },
   "file_extension": ".py",
   "mimetype": "text/x-python",
   "name": "python",
   "nbconvert_exporter": "python",
   "pygments_lexer": "ipython3",
   "version": "3.7.3"
  }
 },
 "nbformat": 4,
 "nbformat_minor": 5
}
